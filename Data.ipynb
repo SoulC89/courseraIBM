{
 "cells": [
  {
   "cell_type": "markdown",
   "metadata": {},
   "source": [
    "## Data\n",
    "The data we will be using is taken from data.cityofnewyork which contains all of the motor vehicle crashes from 2012 to 2020. We will be looking at these data points in particular: \n",
    "\n",
    "In terms of cleaning up data, we will be combining all of the columns where people were involved from fatal to regular injuries and creating a \"severity code\" based on the amount of people injured. This will be our main Y factor for our model. \n",
    "\n",
    "For visualization, we will be using the longitude and latitude to see where the accident took place. We will be combining it with our new severity code to see which areas are hit hardest. \n",
    "\n",
    "We will also be looking at vehicle types as well as the contributing factor to see what kind of vehicle and what actually caused the accident in the first place. From there we can try to make guesses towards what causes the worst accidents. "
   ]
  },
  {
   "cell_type": "code",
   "execution_count": null,
   "metadata": {},
   "outputs": [],
   "source": []
  }
 ],
 "metadata": {
  "kernelspec": {
   "display_name": "Python 3",
   "language": "python",
   "name": "python3"
  },
  "language_info": {
   "codemirror_mode": {
    "name": "ipython",
    "version": 3
   },
   "file_extension": ".py",
   "mimetype": "text/x-python",
   "name": "python",
   "nbconvert_exporter": "python",
   "pygments_lexer": "ipython3",
   "version": "3.7.4"
  }
 },
 "nbformat": 4,
 "nbformat_minor": 2
}
