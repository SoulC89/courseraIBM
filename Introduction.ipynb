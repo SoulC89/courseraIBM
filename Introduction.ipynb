{
 "cells": [
  {
   "cell_type": "markdown",
   "metadata": {},
   "source": [
    "## Introduction/Business Problem:\n",
    "Accidents happen all the time on the road. However, each accident can vary in how damaging it is. What is the cause of the most and least severe accident? We will be looking at accidents in New York City to see if we can figure out what makes the worst accident, and to see if we can guess if an accident would be severe or not. With this information, we can try to create a solution to all of the accidents occuring and try to lower the amount of damage done. "
   ]
  },
  {
   "cell_type": "markdown",
   "metadata": {},
   "source": []
  }
 ],
 "metadata": {
  "kernelspec": {
   "display_name": "Python 3",
   "language": "python",
   "name": "python3"
  },
  "language_info": {
   "codemirror_mode": {
    "name": "ipython",
    "version": 3
   },
   "file_extension": ".py",
   "mimetype": "text/x-python",
   "name": "python",
   "nbconvert_exporter": "python",
   "pygments_lexer": "ipython3",
   "version": "3.7.4"
  }
 },
 "nbformat": 4,
 "nbformat_minor": 2
}
